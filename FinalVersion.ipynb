{
 "cells": [
  {
   "cell_type": "markdown",
   "id": "8cef4b6f-dd70-432e-82ef-1e8c16c8d9b5",
   "metadata": {},
   "source": [
    "<h1>Importing neccessary libraries</h1>\n",
    "\n",
    "1. Importing neccessary libraries\r\n",
    "   - **Pandas**: Used to handle and manipulate tabular data, like reading and cleaning datasets (e.g., CSV files).\r\n",
    "   - **NumPy**: Supports working with large arrays and matrices.\r\n",
    "   - **Pickle**: Saves and loads Python objects, such as trained models, for later use.\r\n",
    "   - **Matplotlib**: Creates visualizations like plots and charts to analyze data and model performance.\r\n",
    "   - **Seaborn**: Makes it easy to create attractive statistical graphics, such as heatmaps and distribution plots.\r\n",
    "   - **Regular Expressions (re)**: Helps find patterns in text, useful for cleaning or extracting data.\r\n",
    "   - **Natural Language Toolkit (nltk)**: Processes text data, such as splitting text into words, stemming, and removing common words.\r\n",
    "   - **TensorFlow and Keras**: Used for building and training machine learning models, with Keras providing a simpler interface.\r\n",
    "   - **Scikit-learn (Sklearn)**: Used for tasks like data preprocessing, feature extraction, and model evaluation.\r\n",
    "   - **BeautifulSoup**: Extracts data from web pages, useful for gathering text from online sources.\r\n",
    "   - **PyTorch**: Builds and trains deep learning models with utilities for neural networks and optimization.\r\n",
    "   - **DataLoader and TensorDataset**: Helps in PyTorch to load and batch data during model training.\r\n",
    "   - **Jupyter Notebook**: An interactive environment for writing and running Python code.\r\n"
   ]
  },
  {
   "cell_type": "code",
   "execution_count": 2,
   "id": "5b550c3c-feae-4c00-a05d-c287a04107cd",
   "metadata": {},
   "outputs": [
    {
     "name": "stdout",
     "output_type": "stream",
     "text": [
      "Requirement already satisfied: tensorflow in c:\\users\\asus\\anaconda3\\lib\\site-packages (2.15.0)\n",
      "Requirement already satisfied: transformers in c:\\users\\asus\\anaconda3\\lib\\site-packages (4.32.1)\n",
      "Requirement already satisfied: torch in c:\\users\\asus\\anaconda3\\lib\\site-packages (2.4.0)\n",
      "Requirement already satisfied: torchvision in c:\\users\\asus\\anaconda3\\lib\\site-packages (0.19.0)\n",
      "Requirement already satisfied: tensorflow-intel==2.15.0 in c:\\users\\asus\\anaconda3\\lib\\site-packages (from tensorflow) (2.15.0)\n",
      "Requirement already satisfied: absl-py>=1.0.0 in c:\\users\\asus\\anaconda3\\lib\\site-packages (from tensorflow-intel==2.15.0->tensorflow) (1.4.0)\n",
      "Requirement already satisfied: astunparse>=1.6.0 in c:\\users\\asus\\anaconda3\\lib\\site-packages (from tensorflow-intel==2.15.0->tensorflow) (1.6.3)\n",
      "Requirement already satisfied: flatbuffers>=23.5.26 in c:\\users\\asus\\anaconda3\\lib\\site-packages (from tensorflow-intel==2.15.0->tensorflow) (23.5.26)\n",
      "Requirement already satisfied: gast!=0.5.0,!=0.5.1,!=0.5.2,>=0.2.1 in c:\\users\\asus\\anaconda3\\lib\\site-packages (from tensorflow-intel==2.15.0->tensorflow) (0.5.4)\n",
      "Requirement already satisfied: google-pasta>=0.1.1 in c:\\users\\asus\\anaconda3\\lib\\site-packages (from tensorflow-intel==2.15.0->tensorflow) (0.2.0)\n",
      "Requirement already satisfied: h5py>=2.9.0 in c:\\users\\asus\\anaconda3\\lib\\site-packages (from tensorflow-intel==2.15.0->tensorflow) (3.9.0)\n",
      "Requirement already satisfied: libclang>=13.0.0 in c:\\users\\asus\\anaconda3\\lib\\site-packages (from tensorflow-intel==2.15.0->tensorflow) (16.0.6)\n",
      "Requirement already satisfied: ml-dtypes~=0.2.0 in c:\\users\\asus\\anaconda3\\lib\\site-packages (from tensorflow-intel==2.15.0->tensorflow) (0.2.0)\n",
      "Requirement already satisfied: numpy<2.0.0,>=1.23.5 in c:\\users\\asus\\anaconda3\\lib\\site-packages (from tensorflow-intel==2.15.0->tensorflow) (1.24.3)\n",
      "Requirement already satisfied: opt-einsum>=2.3.2 in c:\\users\\asus\\anaconda3\\lib\\site-packages (from tensorflow-intel==2.15.0->tensorflow) (3.3.0)\n",
      "Requirement already satisfied: packaging in c:\\users\\asus\\anaconda3\\lib\\site-packages (from tensorflow-intel==2.15.0->tensorflow) (23.1)\n",
      "Requirement already satisfied: protobuf!=4.21.0,!=4.21.1,!=4.21.2,!=4.21.3,!=4.21.4,!=4.21.5,<5.0.0dev,>=3.20.3 in c:\\users\\asus\\anaconda3\\lib\\site-packages (from tensorflow-intel==2.15.0->tensorflow) (3.20.3)\n",
      "Requirement already satisfied: setuptools in c:\\users\\asus\\anaconda3\\lib\\site-packages (from tensorflow-intel==2.15.0->tensorflow) (68.0.0)\n",
      "Requirement already satisfied: six>=1.12.0 in c:\\users\\asus\\anaconda3\\lib\\site-packages (from tensorflow-intel==2.15.0->tensorflow) (1.16.0)\n",
      "Requirement already satisfied: termcolor>=1.1.0 in c:\\users\\asus\\anaconda3\\lib\\site-packages (from tensorflow-intel==2.15.0->tensorflow) (2.4.0)\n",
      "Requirement already satisfied: typing-extensions>=3.6.6 in c:\\users\\asus\\anaconda3\\lib\\site-packages (from tensorflow-intel==2.15.0->tensorflow) (4.12.2)\n",
      "Requirement already satisfied: wrapt<1.15,>=1.11.0 in c:\\users\\asus\\anaconda3\\lib\\site-packages (from tensorflow-intel==2.15.0->tensorflow) (1.14.1)\n",
      "Requirement already satisfied: tensorflow-io-gcs-filesystem>=0.23.1 in c:\\users\\asus\\anaconda3\\lib\\site-packages (from tensorflow-intel==2.15.0->tensorflow) (0.31.0)\n",
      "Requirement already satisfied: grpcio<2.0,>=1.24.3 in c:\\users\\asus\\anaconda3\\lib\\site-packages (from tensorflow-intel==2.15.0->tensorflow) (1.60.0)\n",
      "Requirement already satisfied: tensorboard<2.16,>=2.15 in c:\\users\\asus\\anaconda3\\lib\\site-packages (from tensorflow-intel==2.15.0->tensorflow) (2.15.1)\n",
      "Requirement already satisfied: tensorflow-estimator<2.16,>=2.15.0 in c:\\users\\asus\\anaconda3\\lib\\site-packages (from tensorflow-intel==2.15.0->tensorflow) (2.15.0)\n",
      "Requirement already satisfied: keras<2.16,>=2.15.0 in c:\\users\\asus\\anaconda3\\lib\\site-packages (from tensorflow-intel==2.15.0->tensorflow) (2.15.0)\n",
      "Requirement already satisfied: filelock in c:\\users\\asus\\anaconda3\\lib\\site-packages (from transformers) (3.13.1)\n",
      "Requirement already satisfied: huggingface-hub<1.0,>=0.15.1 in c:\\users\\asus\\anaconda3\\lib\\site-packages (from transformers) (0.17.3)\n",
      "Requirement already satisfied: pyyaml>=5.1 in c:\\users\\asus\\anaconda3\\lib\\site-packages (from transformers) (6.0)\n",
      "Requirement already satisfied: regex!=2019.12.17 in c:\\users\\asus\\anaconda3\\lib\\site-packages (from transformers) (2022.7.9)\n",
      "Requirement already satisfied: requests in c:\\users\\asus\\anaconda3\\lib\\site-packages (from transformers) (2.31.0)\n",
      "Requirement already satisfied: tokenizers!=0.11.3,<0.14,>=0.11.1 in c:\\users\\asus\\anaconda3\\lib\\site-packages (from transformers) (0.13.3)\n",
      "Requirement already satisfied: safetensors>=0.3.1 in c:\\users\\asus\\anaconda3\\lib\\site-packages (from transformers) (0.4.2)\n",
      "Requirement already satisfied: tqdm>=4.27 in c:\\users\\asus\\anaconda3\\lib\\site-packages (from transformers) (4.65.0)\n",
      "Requirement already satisfied: sympy in c:\\users\\asus\\anaconda3\\lib\\site-packages (from torch) (1.11.1)\n",
      "Requirement already satisfied: networkx in c:\\users\\asus\\anaconda3\\lib\\site-packages (from torch) (3.1)\n",
      "Requirement already satisfied: jinja2 in c:\\users\\asus\\anaconda3\\lib\\site-packages (from torch) (3.1.2)\n",
      "Requirement already satisfied: fsspec in c:\\users\\asus\\anaconda3\\lib\\site-packages (from torch) (2023.4.0)\n",
      "Requirement already satisfied: pillow!=8.3.*,>=5.3.0 in c:\\users\\asus\\anaconda3\\lib\\site-packages (from torchvision) (10.0.1)\n",
      "Requirement already satisfied: colorama in c:\\users\\asus\\anaconda3\\lib\\site-packages (from tqdm>=4.27->transformers) (0.4.6)\n",
      "Requirement already satisfied: MarkupSafe>=2.0 in c:\\users\\asus\\anaconda3\\lib\\site-packages (from jinja2->torch) (2.1.1)\n",
      "Requirement already satisfied: charset-normalizer<4,>=2 in c:\\users\\asus\\anaconda3\\lib\\site-packages (from requests->transformers) (2.0.4)\n",
      "Requirement already satisfied: idna<4,>=2.5 in c:\\users\\asus\\anaconda3\\lib\\site-packages (from requests->transformers) (3.4)\n",
      "Requirement already satisfied: urllib3<3,>=1.21.1 in c:\\users\\asus\\anaconda3\\lib\\site-packages (from requests->transformers) (1.26.16)\n",
      "Requirement already satisfied: certifi>=2017.4.17 in c:\\users\\asus\\anaconda3\\lib\\site-packages (from requests->transformers) (2024.7.4)\n",
      "Requirement already satisfied: mpmath>=0.19 in c:\\users\\asus\\anaconda3\\lib\\site-packages (from sympy->torch) (1.3.0)\n",
      "Requirement already satisfied: wheel<1.0,>=0.23.0 in c:\\users\\asus\\anaconda3\\lib\\site-packages (from astunparse>=1.6.0->tensorflow-intel==2.15.0->tensorflow) (0.38.4)\n",
      "Requirement already satisfied: google-auth<3,>=1.6.3 in c:\\users\\asus\\anaconda3\\lib\\site-packages (from tensorboard<2.16,>=2.15->tensorflow-intel==2.15.0->tensorflow) (2.25.2)\n",
      "Requirement already satisfied: google-auth-oauthlib<2,>=0.5 in c:\\users\\asus\\anaconda3\\lib\\site-packages (from tensorboard<2.16,>=2.15->tensorflow-intel==2.15.0->tensorflow) (1.2.0)\n",
      "Requirement already satisfied: markdown>=2.6.8 in c:\\users\\asus\\anaconda3\\lib\\site-packages (from tensorboard<2.16,>=2.15->tensorflow-intel==2.15.0->tensorflow) (3.4.1)\n",
      "Requirement already satisfied: tensorboard-data-server<0.8.0,>=0.7.0 in c:\\users\\asus\\anaconda3\\lib\\site-packages (from tensorboard<2.16,>=2.15->tensorflow-intel==2.15.0->tensorflow) (0.7.2)\n",
      "Requirement already satisfied: werkzeug>=1.0.1 in c:\\users\\asus\\anaconda3\\lib\\site-packages (from tensorboard<2.16,>=2.15->tensorflow-intel==2.15.0->tensorflow) (2.2.3)\n",
      "Requirement already satisfied: cachetools<6.0,>=2.0.0 in c:\\users\\asus\\anaconda3\\lib\\site-packages (from google-auth<3,>=1.6.3->tensorboard<2.16,>=2.15->tensorflow-intel==2.15.0->tensorflow) (5.3.2)\n",
      "Requirement already satisfied: pyasn1-modules>=0.2.1 in c:\\users\\asus\\anaconda3\\lib\\site-packages (from google-auth<3,>=1.6.3->tensorboard<2.16,>=2.15->tensorflow-intel==2.15.0->tensorflow) (0.2.8)\n",
      "Requirement already satisfied: rsa<5,>=3.1.4 in c:\\users\\asus\\anaconda3\\lib\\site-packages (from google-auth<3,>=1.6.3->tensorboard<2.16,>=2.15->tensorflow-intel==2.15.0->tensorflow) (4.9)\n",
      "Requirement already satisfied: requests-oauthlib>=0.7.0 in c:\\users\\asus\\anaconda3\\lib\\site-packages (from google-auth-oauthlib<2,>=0.5->tensorboard<2.16,>=2.15->tensorflow-intel==2.15.0->tensorflow) (1.3.1)\n",
      "Requirement already satisfied: pyasn1<0.5.0,>=0.4.6 in c:\\users\\asus\\anaconda3\\lib\\site-packages (from pyasn1-modules>=0.2.1->google-auth<3,>=1.6.3->tensorboard<2.16,>=2.15->tensorflow-intel==2.15.0->tensorflow) (0.4.8)\n",
      "Requirement already satisfied: oauthlib>=3.0.0 in c:\\users\\asus\\anaconda3\\lib\\site-packages (from requests-oauthlib>=0.7.0->google-auth-oauthlib<2,>=0.5->tensorboard<2.16,>=2.15->tensorflow-intel==2.15.0->tensorflow) (3.2.2)\n",
      "Requirement already satisfied: beautifulsoup4 in c:\\users\\asus\\anaconda3\\lib\\site-packages (4.12.2)\n",
      "Requirement already satisfied: nltk in c:\\users\\asus\\anaconda3\\lib\\site-packages (3.8.1)\n",
      "Requirement already satisfied: seaborn in c:\\users\\asus\\anaconda3\\lib\\site-packages (0.12.2)\n",
      "Requirement already satisfied: soupsieve>1.2 in c:\\users\\asus\\anaconda3\\lib\\site-packages (from beautifulsoup4) (2.4)\n",
      "Requirement already satisfied: click in c:\\users\\asus\\anaconda3\\lib\\site-packages (from nltk) (8.0.4)\n",
      "Requirement already satisfied: joblib in c:\\users\\asus\\anaconda3\\lib\\site-packages (from nltk) (1.2.0)\n",
      "Requirement already satisfied: regex>=2021.8.3 in c:\\users\\asus\\anaconda3\\lib\\site-packages (from nltk) (2022.7.9)\n",
      "Requirement already satisfied: tqdm in c:\\users\\asus\\anaconda3\\lib\\site-packages (from nltk) (4.65.0)\n",
      "Requirement already satisfied: numpy!=1.24.0,>=1.17 in c:\\users\\asus\\anaconda3\\lib\\site-packages (from seaborn) (1.24.3)\n",
      "Requirement already satisfied: pandas>=0.25 in c:\\users\\asus\\anaconda3\\lib\\site-packages (from seaborn) (2.1.4)\n",
      "Requirement already satisfied: matplotlib!=3.6.1,>=3.1 in c:\\users\\asus\\anaconda3\\lib\\site-packages (from seaborn) (3.7.2)\n",
      "Requirement already satisfied: contourpy>=1.0.1 in c:\\users\\asus\\anaconda3\\lib\\site-packages (from matplotlib!=3.6.1,>=3.1->seaborn) (1.0.5)\n",
      "Requirement already satisfied: cycler>=0.10 in c:\\users\\asus\\anaconda3\\lib\\site-packages (from matplotlib!=3.6.1,>=3.1->seaborn) (0.11.0)\n",
      "Requirement already satisfied: fonttools>=4.22.0 in c:\\users\\asus\\anaconda3\\lib\\site-packages (from matplotlib!=3.6.1,>=3.1->seaborn) (4.25.0)\n",
      "Requirement already satisfied: kiwisolver>=1.0.1 in c:\\users\\asus\\anaconda3\\lib\\site-packages (from matplotlib!=3.6.1,>=3.1->seaborn) (1.4.4)\n",
      "Requirement already satisfied: packaging>=20.0 in c:\\users\\asus\\anaconda3\\lib\\site-packages (from matplotlib!=3.6.1,>=3.1->seaborn) (23.1)\n",
      "Requirement already satisfied: pillow>=6.2.0 in c:\\users\\asus\\anaconda3\\lib\\site-packages (from matplotlib!=3.6.1,>=3.1->seaborn) (10.0.1)\n",
      "Requirement already satisfied: pyparsing<3.1,>=2.3.1 in c:\\users\\asus\\anaconda3\\lib\\site-packages (from matplotlib!=3.6.1,>=3.1->seaborn) (3.0.9)\n",
      "Requirement already satisfied: python-dateutil>=2.7 in c:\\users\\asus\\anaconda3\\lib\\site-packages (from matplotlib!=3.6.1,>=3.1->seaborn) (2.8.2)\n",
      "Requirement already satisfied: pytz>=2020.1 in c:\\users\\asus\\anaconda3\\lib\\site-packages (from pandas>=0.25->seaborn) (2023.3.post1)\n",
      "Requirement already satisfied: tzdata>=2022.1 in c:\\users\\asus\\anaconda3\\lib\\site-packages (from pandas>=0.25->seaborn) (2023.3)\n",
      "Requirement already satisfied: colorama in c:\\users\\asus\\anaconda3\\lib\\site-packages (from click->nltk) (0.4.6)\n",
      "Requirement already satisfied: six>=1.5 in c:\\users\\asus\\anaconda3\\lib\\site-packages (from python-dateutil>=2.7->matplotlib!=3.6.1,>=3.1->seaborn) (1.16.0)\n",
      "WARNING:tensorflow:From C:\\Users\\ASUS\\anaconda3\\Lib\\site-packages\\keras\\src\\losses.py:2976: The name tf.losses.sparse_softmax_cross_entropy is deprecated. Please use tf.compat.v1.losses.sparse_softmax_cross_entropy instead.\n",
      "\n"
     ]
    },
    {
     "name": "stderr",
     "output_type": "stream",
     "text": [
      "[nltk_data] Downloading package stopwords to\n",
      "[nltk_data]     C:\\Users\\ASUS\\AppData\\Roaming\\nltk_data...\n",
      "[nltk_data]   Package stopwords is already up-to-date!\n",
      "[nltk_data] Downloading package punkt to\n",
      "[nltk_data]     C:\\Users\\ASUS\\AppData\\Roaming\\nltk_data...\n",
      "[nltk_data]   Package punkt is already up-to-date!\n"
     ]
    }
   ],
   "source": [
    "# Install necessary libraries for deep learning, text processing, and visualization\n",
    "!pip install tensorflow transformers torch torchvision\n",
    "!pip install beautifulsoup4 nltk seaborn\n",
    "\n",
    "# Import essential libraries for data manipulation, numerical operations, and visualization\n",
    "import pandas as pd\n",
    "import numpy as np\n",
    "import pickle\n",
    "import matplotlib.pyplot as plt\n",
    "import seaborn as sns\n",
    "import re\n",
    "import nltk\n",
    "import tensorflow as tf\n",
    "import torch\n",
    "import torch.nn as nn\n",
    "import torch.optim as optim\n",
    "\n",
    "# Import scikit-learn modules for model evaluation and text processing\n",
    "from sklearn.model_selection import train_test_split\n",
    "from sklearn.feature_extraction.text import TfidfVectorizer\n",
    "from sklearn.decomposition import TruncatedSVD\n",
    "from sklearn.svm import SVC\n",
    "from sklearn.linear_model import LogisticRegression\n",
    "from sklearn.ensemble import RandomForestClassifier\n",
    "from sklearn.metrics import accuracy_score, confusion_matrix, classification_report\n",
    "from nltk.corpus import stopwords\n",
    "from nltk.tokenize import word_tokenize\n",
    "from nltk.stem import PorterStemmer\n",
    "from bs4 import BeautifulSoup\n",
    "from torch.utils.data import DataLoader, TensorDataset\n",
    "\n",
    "# Stopwords are to remove common words from text processing\n",
    "# Punkt: Tokenizer models to split text into words or sentences\n",
    "nltk.download('stopwords')\n",
    "nltk.download('punkt')\n",
    "\n",
    "# Stemming reduces words to their root forms (e.g., \"running\" becomes \"run\")\n",
    "stemmer = PorterStemmer()\n",
    "\n",
    "# Load the set of English stopwords for filtering out common words that may not add value to the model\n",
    "stop_words = set(stopwords.words('english'))"
   ]
  },
  {
   "cell_type": "markdown",
   "id": "b8d23993-8c9e-4a1f-a033-c9d80179c0ed",
   "metadata": {},
   "source": [
    "The code uses pandas to read two CSV files, True.csv and Fake.csv, which contains news articles labeled as 'true' or 'fake', respectively. pd.read_csv() reads these files into two separate DataFrames, true_df and false_df.\n",
    "\n",
    "Next, labels are added to each DataFrame to indicate the class of the news: 1 for true and 0 for fake. This is done by assigning the value 1 to the column label in true_df and 0 to false_df.\n",
    "\n",
    "The two DataFrames are then combined into a single DataFrame df using pd.concat(). This method concatenates the DataFrames along a particular axis—in this case, vertically—while ignore_index=True ensures that the index is reset to a default integer range.\n",
    "\n",
    "Finally, to ensure the model training is robust, the combined DataFrame is randomized with df.sample(frac=1, random_state=42). This function shuffles the rows of the DataFrame, and reset_index(drop=True) is used to reset the index of the shuffled DataFrame. The random_state=42 argument ensures that the shuffling is reproducible."
   ]
  },
  {
   "cell_type": "code",
   "execution_count": 4,
   "id": "9a173ac5-d402-4361-b81c-f39406a0c65c",
   "metadata": {},
   "outputs": [],
   "source": [
    "# Load datasets\n",
    "true_df = pd.read_csv('True.csv')\n",
    "false_df = pd.read_csv('Fake.csv')\n",
    "\n",
    "# Add labels to the datasets\n",
    "# Assign label '1' to true news articles\n",
    "true_df['label'] = 1\n",
    "# Assign label '0' to fake news articles\n",
    "false_df['label'] = 0\n",
    "\n",
    "# Combine the true and fake news datasets into a single DataFrame\n",
    "df = pd.concat([true_df, false_df], ignore_index=True)\n",
    "\n",
    "# Randomize the dataset\n",
    "df = df.sample(frac=1, random_state=42).reset_index(drop=True)"
   ]
  },
  {
   "cell_type": "markdown",
   "id": "34d5a501-24a2-45c0-a72c-b17b83477435",
   "metadata": {},
   "source": [
    "<h1>2. Text Preprocessing</h1>\r\n",
    "The text preprocessing function is designed to clean and prepare the text data for analysis. The function first checks if the input text is a string. If not, it returns an empty string. It then removes non-alphanumeric characters and converts the text to lowercase, ensuring uniformity across the dataset. The function also removes common English stopwords, which are words that do not contribute much meaning, using NLTK's stopword list. HTML tags are stripped from the text using BeautifulSoup, and any remaining non-alphanumeric characters and digits are removed. The cleaned text is then stored in a new text column, combining the processed title and text columns of the original DataFrame. This preprocessing step is essential for transforming raw text into a structured format that can be used effectively in machine learning models."
   ]
  },
  {
   "cell_type": "code",
   "execution_count": 6,
   "id": "5a6bb985-e15d-4775-b24b-2a2977e82ac4",
   "metadata": {},
   "outputs": [],
   "source": [
    "# Function to evaluate the performance of different models\n",
    "def evaluate_model(name, y_true, y_pred):\n",
    "    print(f\"{name} Model Evaluation:\")\n",
    "    # Calculate accuracy\n",
    "    accuracy = accuracy_score(y_true, y_pred)\n",
    "    # Generate a confusion matrix to understand the distribution of predictions\n",
    "    cm = confusion_matrix(y_true, y_pred)\n",
    "    # Generate a detailed classification report showing precision, recall, and F1-score\n",
    "    report = classification_report(y_true, y_pred)\n",
    "    # Display the accuracy of the model\n",
    "    print(f'Accuracy: {accuracy:.4f}')\n",
    "    print('Confusion Matrix:')\n",
    "    print(cm)\n",
    "    \n",
    "    # Display the classification report\n",
    "    print('Classification Report:')\n",
    "    print(report)\n",
    "    print(\"\\n\")\n",
    "    \n",
    "    # Visualize the confusion matrix using a heatmap\n",
    "    plt.figure(figsize=(8, 6))\n",
    "    sns.heatmap(cm, annot=True, fmt='d', cmap='Blues', xticklabels=['Fake', 'True'], yticklabels=['Fake', 'True'])\n",
    "    plt.xlabel('Predicted')  \n",
    "    plt.ylabel('True')      \n",
    "    plt.title(f'{name} Confusion Matrix')  \n",
    "    plt.show()"
   ]
  },
  {
   "cell_type": "code",
   "execution_count": 7,
   "id": "ad86a175-1ce8-4df8-9993-6ec26a68e030",
   "metadata": {},
   "outputs": [],
   "source": [
    "# Function to preprocess the text data\n",
    "def preprocess_text(text):\n",
    "    # Check if the input is a string; if not, return an empty string\n",
    "    if not isinstance(text, str):\n",
    "        return ''\n",
    "    # Remove any non-alphanumeric characters\n",
    "    text = re.sub(r'[^\\w\\s]', '', text)    \n",
    "    # Convert all characters to lowercase\n",
    "    text = text.lower()\n",
    "    # Remove stopwords from the text, split text into words, remove words in stop_words set and join them back into a string\n",
    "    text = ' '.join([word for word in text.split() if word not in stop_words])\n",
    "    # Remove any HTML tags from the text\n",
    "    text = BeautifulSoup(text, \"html.parser\").get_text()  \n",
    "    # Remove non-alphanumeric characters from the cleaned text\n",
    "    text = re.sub(r'\\W', ' ', text)\n",
    "    # Remove digits from text\n",
    "    text = re.sub(r'\\d', '', text)\n",
    "    # Return the cleaned text\n",
    "    return text\n",
    "\n",
    "# Apply the preprocessing function to the dataset\n",
    "df['text'] = df['title'].apply(preprocess_text) + \" \" + df['text'].apply(preprocess_text)\n",
    "# Ensure the 'label' column is of integer type\n",
    "df['label'] = df['label'].astype(int)"
   ]
  },
  {
   "cell_type": "markdown",
   "id": "9a2044e3-0274-4716-a0f2-936f4f174be9",
   "metadata": {},
   "source": [
    "<h1>3. Data Splitting</h1>\n",
    "The dataset is split into training and validation sets to prepare for model training. The train_test_split function from Scikit-learn is used for this purpose, with a 60-40 split between the training and validation sets. Stratification is applied to ensure that the label distribution is consistent across both sets, which is important for maintaining the integrity of the model's learning process. Following this, the text data is vectorized using the TfidfVectorizer, which converts the textual data into numerical features. The vectorizer is configured to use both unigrams and bigrams, capturing both single words and pairs of words. The number of features is capped at 10,000 to manage computational efficiency. The dimensionality of the data is further reduced using TruncatedSVD, which condenses the feature space into 300 principal components. This helps in speeding up the training process and avoids the curse of dimensionality, ensuring the data is in a manageable format for the machine learning model."
   ]
  },
  {
   "cell_type": "code",
   "execution_count": 9,
   "id": "66955219-11e0-448d-b9be-cfa4e96333df",
   "metadata": {},
   "outputs": [],
   "source": [
    "# Split the dataset into training and validation sets\n",
    "train_df, val_df = train_test_split(df, test_size=0.4, random_state=42, stratify=df['label'])\n",
    "\n",
    "# Text vectorization using TF-IDF (Term Frequency-Inverse Document Frequency)\n",
    "vectorizer = TfidfVectorizer(ngram_range=(1, 2), max_features=10000)\n",
    "# Dimensionality reduction using Truncated SVD (Latent Semantic Analysis)\n",
    "lsa = TruncatedSVD(n_components=300)\n",
    "\n",
    "# Fit the vectorizer to the training data and transform the training text data into TF-IDF features\n",
    "x_train_tfidf = vectorizer.fit_transform(train_df['text'])\n",
    "# Transform the validation text data using the fitted vectorizer\n",
    "x_val_tfidf = vectorizer.transform(val_df['text'])\n",
    "# Apply dimensionality reduction to the training data\n",
    "x_train = lsa.fit_transform(x_train_tfidf)\n",
    "# Apply the same dimensionality reduction to the validation data\n",
    "x_val = lsa.transform(x_val_tfidf)\n",
    "# Extract the labels for the training and validation sets\n",
    "y_train = train_df['label'].values\n",
    "y_val = val_df['label'].values\n"
   ]
  },
  {
   "cell_type": "markdown",
   "id": "466b1851-4ec9-42e0-bf20-4596ee224376",
   "metadata": {},
   "source": [
    "<h1>4. Model Definition - Keras</h1>\n",
    "4. Model Definition\r\n",
    "A neural network model is defined using Keras, designed to handle the binary classification task. The model consists of several dense layers, each followed by a dropout layer to mitigate the risk of overfitting. The ReLU activation function is used in the dense layers, making the model capable of learning complex patterns in the data. The l2 regularization is applied to the dense layers to further control overfitting by penalizing large weights. The final layer of the model uses a sigmoid activation function, which is appropriate for binary classification tasks. The model is compiled using the Adam optimizer, binary cross-entropy as the loss function, and accuracy as a performance metric. Class weights are calculated to handle any imbalance in the training data, ensuring that the model does not become biased toward the majority class. The model is trained for 10 epochs with a batch size of 64, utilizing early stopping to prevent overfitting if the validation loss stops improving."
   ]
  },
  {
   "cell_type": "code",
   "execution_count": 11,
   "id": "1aa15c36-01c0-4410-b1e9-10b79c465bec",
   "metadata": {},
   "outputs": [
    {
     "name": "stdout",
     "output_type": "stream",
     "text": [
      "WARNING:tensorflow:From C:\\Users\\ASUS\\anaconda3\\Lib\\site-packages\\keras\\src\\backend.py:1398: The name tf.executing_eagerly_outside_functions is deprecated. Please use tf.compat.v1.executing_eagerly_outside_functions instead.\n",
      "\n"
     ]
    }
   ],
   "source": [
    "# Define the Keras model\n",
    "keras_model = tf.keras.Sequential([\n",
    "    tf.keras.layers.Input(shape=(x_train.shape[1],)),\n",
    "    tf.keras.layers.Dense(256, activation='relu', kernel_regularizer=tf.keras.regularizers.l2(0.001)),\n",
    "    tf.keras.layers.Dropout(0.4),\n",
    "    tf.keras.layers.Dense(128, activation='relu', kernel_regularizer=tf.keras.regularizers.l2(0.001)),\n",
    "    tf.keras.layers.Dropout(0.4),\n",
    "    tf.keras.layers.Dense(64, activation='relu', kernel_regularizer=tf.keras.regularizers.l2(0.001)),\n",
    "    tf.keras.layers.Dense(1, activation='sigmoid')\n",
    "])\n",
    "\n",
    "# Compile the model\n",
    "keras_model.compile(loss='binary_crossentropy',\n",
    "                    optimizer=tf.keras.optimizers.Adam(learning_rate=0.001),\n",
    "                    metrics=['accuracy'])\n"
   ]
  },
  {
   "cell_type": "code",
   "execution_count": 12,
   "id": "dad5650c-4a16-4543-9cd9-b0680c5d4cd3",
   "metadata": {},
   "outputs": [],
   "source": [
    "# Calculate class weights\n",
    "class_weights = {\n",
    "    0: len(y_train) / (2 * sum(y_train == 0)),\n",
    "    1: len(y_train) / (2 * sum(y_train == 1))\n",
    "}"
   ]
  },
  {
   "cell_type": "code",
   "execution_count": 13,
   "id": "d469144d-0ffd-458a-9f57-d9f1088f1041",
   "metadata": {},
   "outputs": [
    {
     "name": "stdout",
     "output_type": "stream",
     "text": [
      "Epoch 1/10\n",
      "WARNING:tensorflow:From C:\\Users\\ASUS\\anaconda3\\Lib\\site-packages\\keras\\src\\utils\\tf_utils.py:492: The name tf.ragged.RaggedTensorValue is deprecated. Please use tf.compat.v1.ragged.RaggedTensorValue instead.\n",
      "\n",
      "WARNING:tensorflow:From C:\\Users\\ASUS\\anaconda3\\Lib\\site-packages\\keras\\src\\engine\\base_layer_utils.py:384: The name tf.executing_eagerly_outside_functions is deprecated. Please use tf.compat.v1.executing_eagerly_outside_functions instead.\n",
      "\n",
      "421/421 [==============================] - 3s 4ms/step - loss: 0.2939 - accuracy: 0.9356 - val_loss: 0.1236 - val_accuracy: 0.9869\n",
      "Epoch 2/10\n",
      "421/421 [==============================] - 1s 2ms/step - loss: 0.1164 - accuracy: 0.9838 - val_loss: 0.1052 - val_accuracy: 0.9842\n",
      "Epoch 3/10\n",
      "421/421 [==============================] - 1s 2ms/step - loss: 0.0995 - accuracy: 0.9854 - val_loss: 0.0905 - val_accuracy: 0.9866\n",
      "Epoch 4/10\n",
      "421/421 [==============================] - 1s 2ms/step - loss: 0.0944 - accuracy: 0.9847 - val_loss: 0.0899 - val_accuracy: 0.9852\n",
      "Epoch 5/10\n",
      "421/421 [==============================] - 1s 2ms/step - loss: 0.0906 - accuracy: 0.9850 - val_loss: 0.0873 - val_accuracy: 0.9849\n",
      "Epoch 6/10\n",
      "421/421 [==============================] - 1s 2ms/step - loss: 0.0892 - accuracy: 0.9850 - val_loss: 0.0864 - val_accuracy: 0.9854\n",
      "Epoch 7/10\n",
      "421/421 [==============================] - 1s 2ms/step - loss: 0.0874 - accuracy: 0.9848 - val_loss: 0.0863 - val_accuracy: 0.9838\n",
      "Epoch 8/10\n",
      "421/421 [==============================] - 1s 3ms/step - loss: 0.0854 - accuracy: 0.9858 - val_loss: 0.0859 - val_accuracy: 0.9846\n",
      "Epoch 9/10\n",
      "421/421 [==============================] - 1s 2ms/step - loss: 0.0835 - accuracy: 0.9854 - val_loss: 0.0843 - val_accuracy: 0.9853\n",
      "Epoch 10/10\n",
      "421/421 [==============================] - 1s 3ms/step - loss: 0.0824 - accuracy: 0.9853 - val_loss: 0.0780 - val_accuracy: 0.9872\n"
     ]
    }
   ],
   "source": [
    "# Train the model\n",
    "history = keras_model.fit(x_train, y_train, \n",
    "                          epochs=10,\n",
    "                          batch_size=64, \n",
    "                          validation_data=(x_val, y_val),\n",
    "                          class_weight=class_weights,\n",
    "                          callbacks=[tf.keras.callbacks.EarlyStopping('val_loss', patience=3, restore_best_weights=True)])\n"
   ]
  },
  {
   "cell_type": "markdown",
   "id": "00f8b1eb-c0fc-4216-a121-5515ec9f6db0",
   "metadata": {},
   "source": [
    "<h1>5.1. Model Evaluation - Keras</h1>\r\n",
    "The model's performance is evaluated using the validation set. The evaluation includes the calculation of validation loss and accuracy, which provide insights into how well the model generalizes to unseen data. Predictions are made on the validation set, and these predictions are then compared to the true labels to calculate the accuracy. A confusion matrix is generated to visualize the model's performance in distinguishing between the two classes. The confusion matrix is an essential tool for understanding the types of errors the model makes, whether it confuses one class for the other. Additionally, a classification report is generated, providing detailed metrics such as precision, recall, and F1-score for each class. The confusion matrix is visualized using a heatmap, offering a clear and intuitive view of the model's classification performan"
   ]
  },
  {
   "cell_type": "code",
   "execution_count": 15,
   "id": "f0ad1335-bd5d-46de-970f-004c6e50565d",
   "metadata": {},
   "outputs": [
    {
     "name": "stdout",
     "output_type": "stream",
     "text": [
      "562/562 [==============================] - 0s 808us/step - loss: 0.0780 - accuracy: 0.9872\n",
      "Keras Model Validation Accuracy: 0.9872\n"
     ]
    }
   ],
   "source": [
    "# Evaluate the Keras model\n",
    "val_loss, val_accuracy = keras_model.evaluate(x_val, y_val)\n",
    "print(f'Keras Model Validation Accuracy: {val_accuracy:.4f}')"
   ]
  },
  {
   "cell_type": "code",
   "execution_count": 16,
   "id": "5846348b-d431-49bc-8bbe-94fd6a527b6e",
   "metadata": {},
   "outputs": [
    {
     "name": "stdout",
     "output_type": "stream",
     "text": [
      "562/562 [==============================] - 1s 762us/step\n"
     ]
    }
   ],
   "source": [
    "# Make predictions\n",
    "y_val_pred_probs = keras_model.predict(x_val)\n",
    "y_val_pred_keras = (y_val_pred_probs > 0.5).astype(int).flatten()"
   ]
  },
  {
   "cell_type": "code",
   "execution_count": 17,
   "id": "bf897e25-50cb-455c-b652-98015619fd88",
   "metadata": {},
   "outputs": [
    {
     "name": "stdout",
     "output_type": "stream",
     "text": [
      "Keras Neural Network Model Evaluation:\n",
      "Accuracy: 0.9872\n",
      "Confusion Matrix:\n",
      "[[9242  151]\n",
      " [  78 8489]]\n",
      "Classification Report:\n",
      "              precision    recall  f1-score   support\n",
      "\n",
      "           0       0.99      0.98      0.99      9393\n",
      "           1       0.98      0.99      0.99      8567\n",
      "\n",
      "    accuracy                           0.99     17960\n",
      "   macro avg       0.99      0.99      0.99     17960\n",
      "weighted avg       0.99      0.99      0.99     17960\n",
      "\n",
      "\n",
      "\n"
     ]
    },
    {
     "data": {
      "image/png": "[encoded data removed]",
      "text/plain": [
       "<Figure size 800x600 with 2 Axes>"
      ]
     },
     "metadata": {},
     "output_type": "display_data"
    }
   ],
   "source": [
    "# Evaluate the Model and show the accuracy as well as the confusion matrix\n",
    "evaluate_model(\"Keras Neural Network\", y_val, y_val_pred_keras)"
   ]
  },
  {
   "cell_type": "markdown",
   "id": "f2d4a128-63eb-4bf9-9190-bdb8bf1051e2",
   "metadata": {},
   "source": [
    "<h1>5.2. Model Evaluation - SVM, Logistic Regression, Random Forest</h1>\n",
    "<h3>SVM</h3>\n",
    "The SVM model is initialized with a linear kernel, class_weight='balanced', and probability=True to handle class imbalance and enable probability estimates. It is trained on the training data using svm_model.fit(x_train, y_train). Evaluation is conducted with the evaluate_model function, which provides accuracy, confusion matrix, and classification report to assess the model's performance on the validation set.\n",
    "\n",
    "<h3>Logistic Regression</h3>\n",
    "The Logistic Regression model is configured with class_weight='balanced' to address class imbalance and max_iter=10000 to ensure convergence. It is trained on the training data with logistic_model.fit(x_train, y_train). The model’s performance is evaluated using the evaluate_model function, which reports accuracy, confusion matrix, and classification metrics on the validation set.\n",
    "\n",
    "<h3>Random Forest</h3>\n",
    "The Random Forest model is set with 100 trees (n_estimators=100), class_weight='balanced', and a fixed random seed (random_state=42). It is trained using random_forest_model.fit(x_train, y_train). The model’s performance is assessed using the evaluate_model function, which provides accuracy, confusion matrix, and classification report for the validation data."
   ]
  },
  {
   "cell_type": "code",
   "execution_count": null,
   "id": "629da179-5612-4d4e-b659-4fbcb9255dd1",
   "metadata": {},
   "outputs": [
    {
     "name": "stdout",
     "output_type": "stream",
     "text": [
      "SVM Model Evaluation:\n",
      "Accuracy: 0.9871\n",
      "Confusion Matrix:\n",
      "[[9242  151]\n",
      " [  80 8487]]\n",
      "Classification Report:\n",
      "              precision    recall  f1-score   support\n",
      "\n",
      "           0       0.99      0.98      0.99      9393\n",
      "           1       0.98      0.99      0.99      8567\n",
      "\n",
      "    accuracy                           0.99     17960\n",
      "   macro avg       0.99      0.99      0.99     17960\n",
      "weighted avg       0.99      0.99      0.99     17960\n",
      "\n",
      "\n",
      "\n"
     ]
    },
    {
     "data": {
      "image/png": "[encoded data removed]",
      "text/plain": [
       "<Figure size 800x600 with 2 Axes>"
      ]
     },
     "metadata": {},
     "output_type": "display_data"
    },
    {
     "name": "stdout",
     "output_type": "stream",
     "text": [
      "Logistic Regression Model Evaluation:\n",
      "Accuracy: 0.9830\n",
      "Confusion Matrix:\n",
      "[[9186  207]\n",
      " [  99 8468]]\n",
      "Classification Report:\n",
      "              precision    recall  f1-score   support\n",
      "\n",
      "           0       0.99      0.98      0.98      9393\n",
      "           1       0.98      0.99      0.98      8567\n",
      "\n",
      "    accuracy                           0.98     17960\n",
      "   macro avg       0.98      0.98      0.98     17960\n",
      "weighted avg       0.98      0.98      0.98     17960\n",
      "\n",
      "\n",
      "\n"
     ]
    },
    {
     "data": {
      "image/png": "[encoded data removed]",
      "text/plain": [
       "<Figure size 800x600 with 2 Axes>"
      ]
     },
     "metadata": {},
     "output_type": "display_data"
    }
   ],
   "source": [
    "# Train the SVM model\n",
    "svm_model = SVC(kernel='linear', class_weight='balanced', probability=True)\n",
    "svm_model.fit(x_train, y_train)\n",
    "y_val_pred_svm = svm_model.predict(x_val)\n",
    "\n",
    "# Evaluate SVM model\n",
    "evaluate_model(\"SVM\", y_val, y_val_pred_svm)\n",
    "\n",
    "# Train the Logistic Regression model\n",
    "logistic_model = LogisticRegression(class_weight='balanced', max_iter=10000)\n",
    "logistic_model.fit(x_train, y_train)\n",
    "y_val_pred_logistic = logistic_model.predict(x_val)\n",
    "\n",
    "# Evaluate Logistic Regression model\n",
    "evaluate_model(\"Logistic Regression\", y_val, y_val_pred_logistic)\n",
    "\n",
    "# Train the Random Forest model\n",
    "random_forest_model = RandomForestClassifier(n_estimators=100, class_weight='balanced', random_state=42)\n",
    "random_forest_model.fit(x_train, y_train)\n",
    "y_val_pred_rf = random_forest_model.predict(x_val)\n",
    "\n",
    "# Evaluate Random Forest model\n",
    "evaluate_model(\"Random Forest\", y_val, y_val_pred_rf)\n",
    "\n"
   ]
  },
  {
   "cell_type": "markdown",
   "id": "e3772725-0111-4ec1-beb0-562dfc170ad0",
   "metadata": {},
   "source": [
    "<h1>5.3. Model - Pytorch </h1>"
   ]
  },
  {
   "cell_type": "code",
   "execution_count": null,
   "id": "d414398f-37e9-4839-a663-9387678f3908",
   "metadata": {},
   "outputs": [],
   "source": [
    "# Convert the data to PyTorch tensors\n",
    "# Convert training data to PyTorch tensors with the appropriate data type\n",
    "x_train_tensor = torch.tensor(x_train, dtype=torch.float32)\n",
    "y_train_tensor = torch.tensor(y_train, dtype=torch.float32).unsqueeze(1)  # Unsqueeze adds an extra dimension to match the expected shape\n",
    "\n",
    "\n",
    "# Convert validation data to PyTorch tensors\n",
    "x_val_tensor = torch.tensor(x_val, dtype=torch.float32)\n",
    "y_val_tensor = torch.tensor(y_val, dtype=torch.float32).unsqueeze(1)\n",
    "\n",
    "# Create TensorDataset\n",
    "train_dataset = TensorDataset(x_train_tensor, y_train_tensor)\n",
    "val_dataset = TensorDataset(x_val_tensor, y_val_tensor)\n",
    "\n",
    "# Create DataLoader for batch processing\n",
    "train_loader = DataLoader(train_dataset, batch_size=64, shuffle=True)\n",
    "val_loader = DataLoader(val_dataset, batch_size=64)"
   ]
  },
  {
   "cell_type": "markdown",
   "id": "175910ce-b309-4b61-bcc3-2dbe40a785fe",
   "metadata": {},
   "source": [
    "<h3>Model Definition - PyTorch:</h3>\n",
    "\n",
    "In PyTorch, we define the model by subclassing nn.Module. The PyTorchModel class is initialized with layers and activation functions:\n",
    "The model includes linear layers with ReLU activations and dropout layers to prevent overfitting. The output layer uses a sigmoid activation to produce a probability score for binary classification."
   ]
  },
  {
   "cell_type": "code",
   "execution_count": null,
   "id": "52e4a40c-0e1f-4b17-bc77-5ae2b992d8de",
   "metadata": {},
   "outputs": [],
   "source": [
    "# Define the PyTorch model\n",
    "# This is a custom neural network model built using the PyTorch library\n",
    "class PyTorchModel(nn.Module):\n",
    "    def __init__(self, input_dim):\n",
    "        super(PyTorchModel, self).__init__()\n",
    "        \n",
    "        # Define the first fully connected layer\n",
    "        self.fc1 = nn.Linear(input_dim, 256)\n",
    "        # Define the ReLU activation function for the first hidden layer\n",
    "        self.relu1 = nn.ReLU()\n",
    "        # Add a dropout layer with a 40% dropout rate to reduce overfitting\n",
    "        self.dropout1 = nn.Dropout(0.4)\n",
    "        # Define the second fully connected layer\n",
    "        self.fc2 = nn.Linear(256, 128)\n",
    "        self.relu2 = nn.ReLU()\n",
    "        self.dropout2 = nn.Dropout(0.4)\n",
    "        # Define the third fully connected layer\n",
    "        self.fc3 = nn.Linear(128, 64)\n",
    "        self.relu3 = nn.ReLU()\n",
    "        # Define the output layer\n",
    "        self.fc4 = nn.Linear(64, 1)\n",
    "        # Apply the sigmoid activation function to the output, which outputs a probability value between 0 and 1\n",
    "        self.sigmoid = nn.Sigmoid()\n",
    "\n",
    "    # Define the forward pass through the network\n",
    "    def forward(self, x):\n",
    "        # Pass the input through the first layer, followed by ReLU and dropout\n",
    "        x = self.fc1(x)\n",
    "        x = self.relu1(x)\n",
    "        x = self.dropout1(x)\n",
    "        # Pass the result through the second layer, followed by ReLU and dropout\n",
    "        x = self.fc2(x)\n",
    "        x = self.relu2(x)\n",
    "        x = self.dropout2(x)\n",
    "        # Pass the result through the third layer, followed by ReLU\n",
    "        x = self.fc3(x)\n",
    "        x = self.relu3(x)\n",
    "        # Pass the result through the output layer and apply sigmoid activation\n",
    "        x = self.fc4(x)\n",
    "        x = self.sigmoid(x)\n",
    "        # Return the final output\n",
    "        return x"
   ]
  },
  {
   "cell_type": "markdown",
   "id": "18a04fd1-ecd8-4e61-8b05-979754f8b479",
   "metadata": {},
   "source": [
    "<h3> Model Training and evaluation - PyTorch:</h3>\n",
    "\n",
    "The model is instantiated with the input dimension and is trained using nn.BCELoss() for the loss function and optim.Adam as the optimizer. During training, the model processes data in batches, updating weights using backpropagation. After training, the model switches to evaluation mode to make predictions on the validation set, which are then aggregated to compute accuracy.\n",
    "The evaluate_model function is used to assess the PyTorch model’s performance. Predictions are compared to true labels from the validation set, and metrics such as accuracy, confusion matrix, and classification report are generated to evaluate the model’s effectiveness. This provides a clear view of how well the model performs in binary classification tasks."
   ]
  },
  {
   "cell_type": "code",
   "execution_count": null,
   "id": "bab190bd-8475-4620-8dde-6cc15eb6603c",
   "metadata": {},
   "outputs": [],
   "source": [
    "# Instantiate the PyTorch model, loss function, and optimizer\n",
    "\n",
    "# Determine the input dimension from the training data\n",
    "input_dim = x_train.shape[1]\n",
    "# Instantiate the PyTorch model with the determined input dimension\n",
    "pytorch_model = PyTorchModel(input_dim)\n",
    "# Define the loss function for binary classification\n",
    "criterion = nn.BCELoss()\n",
    "# Define the optimizer using Adam optimizer to train the model\n",
    "optimizer = optim.Adam(pytorch_model.parameters(), lr=0.001)\n",
    "\n",
    "# Training the PyTorch model\n",
    "\n",
    "# Set the number of epochs for training\n",
    "n_epochs = 10\n",
    "for epoch in range(n_epochs):\n",
    "    # Set the model to training mode\n",
    "    pytorch_model.train()\n",
    "    # Iterate over batches of data from the DataLoader\n",
    "    for x_batch, y_batch in train_loader:\n",
    "        # Zero the gradients to prevent accumulation from previous steps\n",
    "        optimizer.zero_grad()\n",
    "        # Forward pass\n",
    "        y_pred = pytorch_model(x_batch)    \n",
    "        # Compute the loss based on predicted and actual labels\n",
    "        loss = criterion(y_pred, y_batch)\n",
    "        # Backward pass\n",
    "        loss.backward()    \n",
    "        # Update the model parameters based on the gradients\n",
    "        optimizer.step()\n",
    "        \n",
    "    # Validation after each epoch\n",
    "    pytorch_model.eval()\n",
    "    \n",
    "    # List to store predictions for the validation set\n",
    "    y_val_pred = []\n",
    "    \n",
    "    # Disable gradient calculation for validation to save memory and computation\n",
    "    with torch.no_grad():\n",
    "        # Iterate over batches of validation data\n",
    "        for x_batch, _ in val_loader:\n",
    "            # Predict the output for the validation batch\n",
    "            y_batch_pred = pytorch_model(x_batch)\n",
    "            # Append predictions to the list\n",
    "            y_val_pred.append(y_batch_pred)\n",
    "            \n",
    "    # Concatenate all predictions into a single tensor\n",
    "    y_val_pred = torch.cat(y_val_pred)\n",
    "    # Convert predictions to binary labels (0 or 1) using a threshold of 0.5\n",
    "    y_val_pred_pytorch = (y_val_pred > 0.5).int().flatten().numpy()\n",
    "    # Calculate validation accuracy for this epoch\n",
    "    val_accuracy = accuracy_score(y_val, y_val_pred_pytorch)\n",
    "    print(f'Epoch {epoch+1}/{n_epochs}, PyTorch Model Validation Accuracy: {val_accuracy:.4f}')\n",
    "\n",
    "# Evaluate the PyTorch model\n",
    "evaluate_model(\"PyTorch Neural Network\", y_val, y_val_pred_pytorch)"
   ]
  },
  {
   "cell_type": "markdown",
   "id": "36b8964f-2fa4-446d-b905-5bfee00bfe01",
   "metadata": {},
   "source": [
    "<h1>6. Saving Preprocessing and Model Artifacts for Reuse</h1>\n",
    "This portion is where the machine learning preprocessing component is being saved along a trained model. First, it serializes a TfidfVectorizer instance to a file named vectorizer.pkl using Python's pickle module, allowing the vectorizer to be loaded laterwithout being retrained. and reused without retraining. The next portion is where the, the trained model and its tokenizer are saved to a directory called saved_model using the model's built-in save method. This allows the model to be loaded later for inference or further training."
   ]
  },
  {
   "cell_type": "code",
   "execution_count": null,
   "id": "667aac01-e2be-4795-a49f-0f3430e19a57",
   "metadata": {},
   "outputs": [],
   "source": [
    "# Save the TfidfVectorizer instance\n",
    "with open('vectorizer.pkl', 'wb') as f:\n",
    "    pickle.dump(vectorizer, f)\n",
    "\n",
    "print(\"Vectorizer saved\")\n",
    "\n",
    "with open('lsa_model.pkl', 'wb') as f:\n",
    "    pickle.dump(lsa, f)\n",
    "\n",
    "print(\"lsa_model saved\")\n",
    "    \n",
    "# Save the fine-tuned model and tokenizer\n",
    "keras_model.save('saved_model')\n",
    "\n",
    "print(\"model saved\")"
   ]
  },
  {
   "cell_type": "code",
   "execution_count": null,
   "id": "6077875b-3987-40b3-b3ef-8a865251bb9f",
   "metadata": {},
   "outputs": [],
   "source": []
  }
 ],
 "metadata": {
  "kernelspec": {
   "display_name": "Python 3 (ipykernel)",
   "language": "python",
   "name": "python3"
  },
  "language_info": {
   "codemirror_mode": {
    "name": "ipython",
    "version": 3
   },
   "file_extension": ".py",
   "mimetype": "text/x-python",
   "name": "python",
   "nbconvert_exporter": "python",
   "pygments_lexer": "ipython3",
   "version": "3.11.5"
  }
 },
 "nbformat": 4,
 "nbformat_minor": 5
}
